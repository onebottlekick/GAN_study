{
 "cells": [
  {
   "cell_type": "code",
   "execution_count": null,
   "metadata": {},
   "outputs": [],
   "source": [
    "import tensorflow as tf\n",
    "import numpy as np\n",
    "import matplotlib.pyplot as plt\n",
    "\n",
    "from WGAN import critic, generator, WGAN"
   ]
  },
  {
   "cell_type": "code",
   "execution_count": null,
   "metadata": {},
   "outputs": [],
   "source": [
    "latent_dim = 100\n",
    "\n",
    "def sample_images(generator, image_grid_rows=4, image_grid_columns=4):\n",
    "    z = np.random.normal(0, 1, (image_grid_rows*image_grid_columns, latent_dim))\n",
    "    gen_imgs = generator.predict(z)\n",
    "    gen_imgs = 0.5*gen_imgs + 0.5\n",
    "    fig, axs = plt.subplots(image_grid_rows, image_grid_columns, figsize=(4, 4), sharex=True, sharey=True)\n",
    "    cnt = 0\n",
    "    for i in range(image_grid_rows):\n",
    "        for j in range(image_grid_columns):\n",
    "            axs[i, j].imshow(gen_imgs[cnt, :, :, 0], cmap='gray')\n",
    "            axs[i, j].axis('off')\n",
    "            cnt += 1\n",
    "    plt.show()"
   ]
  },
  {
   "cell_type": "code",
   "execution_count": null,
   "metadata": {},
   "outputs": [],
   "source": [
    "n_critic = 5\n",
    "clip_value = 0.01\n",
    "\n",
    "def train(epochs, batch_size=128, sample_interval=50):\n",
    "    (X_train, _), (_, _) = tf.keras.datasets.mnist.load_data()\n",
    "    X_train = (X_train.astype(np.float32) - 127.5) / 127.5\n",
    "    X_train = np.expand_dims(X_train, axis=3)\n",
    "\n",
    "    valid = -np.ones((batch_size, 1))\n",
    "    fake = np.ones((batch_size, 1))\n",
    "\n",
    "    for epoch in range(epochs):\n",
    "\n",
    "        for _ in range(n_critic):\n",
    "            idx = np.random.randint(0, X_train.shape[0], batch_size)\n",
    "            imgs = X_train[idx]\n",
    "                \n",
    "            z = np.random.normal(0, 1, (batch_size, latent_dim))\n",
    "            gen_imgs = generator.predict(z)\n",
    "\n",
    "            d_loss_real = critic.train_on_batch(imgs, valid)\n",
    "            d_loss_fake = critic.train_on_batch(gen_imgs, fake)\n",
    "            d_loss = 0.5 * np.add(d_loss_fake, d_loss_real)\n",
    "\n",
    "            for l in critic.layers:\n",
    "                weights = l.get_weights()\n",
    "                weights = [np.clip(w, -clip_value, clip_value) for w in weights]\n",
    "                l.set_weights(weights)\n",
    "\n",
    "        g_loss = WGAN.train_on_batch(z, valid)\n",
    "            \n",
    "        print (f\"{epoch} [D loss: {1 - d_loss[0]}] [G loss: {1 - g_loss[0]}]\")\n",
    "\n",
    "        if epoch % sample_interval == 0:\n",
    "            sample_images(generator)"
   ]
  },
  {
   "cell_type": "code",
   "execution_count": null,
   "metadata": {},
   "outputs": [],
   "source": [
    "train(4000, 32, 50)"
   ]
  },
  {
   "cell_type": "code",
   "execution_count": null,
   "metadata": {},
   "outputs": [],
   "source": []
  }
 ],
 "metadata": {
  "interpreter": {
   "hash": "bb9fbc0b25500d2e7343bbbab22fe7da6ea83436517b3931d73653aeaaa87a7a"
  },
  "kernelspec": {
   "display_name": "Python 3.8.7 64-bit (system)",
   "language": "python",
   "name": "python3"
  },
  "language_info": {
   "codemirror_mode": {
    "name": "ipython",
    "version": 3
   },
   "file_extension": ".py",
   "mimetype": "text/x-python",
   "name": "python",
   "nbconvert_exporter": "python",
   "pygments_lexer": "ipython3",
   "version": "3.8.7"
  },
  "orig_nbformat": 4
 },
 "nbformat": 4,
 "nbformat_minor": 2
}
