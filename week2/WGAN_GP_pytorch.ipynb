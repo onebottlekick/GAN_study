{
 "cells": [
  {
   "cell_type": "code",
   "execution_count": null,
   "metadata": {},
   "outputs": [],
   "source": [
    "import torch\n",
    "from torch import nn\n",
    "from torch.utils.data import DataLoader\n",
    "from torch.utils.tensorboard import SummaryWriter\n",
    "from torchvision import transforms, datasets\n",
    "from torchvision.utils import make_grid\n",
    "\n",
    "from WGAN_GP_pytorch import Critic, Generator, gradient_penalty"
   ]
  },
  {
   "cell_type": "code",
   "execution_count": 2,
   "metadata": {},
   "outputs": [],
   "source": [
    "DEVICE = 'cuda' if torch.cuda.is_available() else 'cpu'\n",
    "LEARNING_RATE = 1e-4\n",
    "BATCH_SIZE = 64\n",
    "IMG_SIZE = 64\n",
    "IMG_CHANNEL = 1\n",
    "Z_DIM = 100\n",
    "EPOCHS = 5\n",
    "CRITIC_FEATURES = 16\n",
    "GENERATOR_FEATURES = 16\n",
    "CRITIC_ITERATIONS = 5\n",
    "LAMBDA_GP = 10"
   ]
  },
  {
   "cell_type": "code",
   "execution_count": 3,
   "metadata": {},
   "outputs": [],
   "source": [
    "data_loader = DataLoader(\n",
    "    dataset=datasets.MNIST(\n",
    "        root='../datasets',\n",
    "        download=True,\n",
    "        train=True,\n",
    "        transform=transforms.Compose([\n",
    "            transforms.Resize(IMG_SIZE),\n",
    "            transforms.ToTensor(),\n",
    "            transforms.Normalize([0.5 for _ in range(IMG_CHANNEL)], [0.5 for _ in range(IMG_CHANNEL)])\n",
    "        ])\n",
    "    ),\n",
    "    batch_size=BATCH_SIZE,\n",
    "    shuffle=True\n",
    ")"
   ]
  },
  {
   "cell_type": "code",
   "execution_count": 4,
   "metadata": {},
   "outputs": [],
   "source": [
    "critic = Critic(IMG_CHANNEL, CRITIC_FEATURES).to(DEVICE)\n",
    "generator = Generator(Z_DIM, IMG_CHANNEL, GENERATOR_FEATURES).to(DEVICE)\n",
    "\n",
    "critic_optimizer = torch.optim.Adam(critic.parameters(), lr=LEARNING_RATE, betas=(0.0, 0.9))\n",
    "generator_optimizer = torch.optim.Adam(generator.parameters(), lr=LEARNING_RATE, betas=(0.0, 0.9))"
   ]
  },
  {
   "cell_type": "code",
   "execution_count": 5,
   "metadata": {},
   "outputs": [
    {
     "name": "stdout",
     "output_type": "stream",
     "text": [
      "Epoch [0/5] Batch 100/938 Critic_loss: -31.3290, Generator_loss: 6.8070\n",
      "Epoch [0/5] Batch 200/938 Critic_loss: -20.9275, Generator_loss: 9.4686\n",
      "Epoch [0/5] Batch 300/938 Critic_loss: -16.4957, Generator_loss: 15.0448\n",
      "Epoch [0/5] Batch 400/938 Critic_loss: -12.1411, Generator_loss: 18.2889\n",
      "Epoch [0/5] Batch 500/938 Critic_loss: -10.9591, Generator_loss: 18.6333\n",
      "Epoch [0/5] Batch 600/938 Critic_loss: -10.5856, Generator_loss: 22.2330\n",
      "Epoch [0/5] Batch 700/938 Critic_loss: -9.3268, Generator_loss: 23.6651\n",
      "Epoch [0/5] Batch 800/938 Critic_loss: -9.4234, Generator_loss: 24.3751\n",
      "Epoch [0/5] Batch 900/938 Critic_loss: -10.5744, Generator_loss: 22.2779\n",
      "Epoch [1/5] Batch 100/938 Critic_loss: -9.3547, Generator_loss: 25.0233\n",
      "Epoch [1/5] Batch 200/938 Critic_loss: -9.4256, Generator_loss: 24.2712\n",
      "Epoch [1/5] Batch 300/938 Critic_loss: -8.9973, Generator_loss: 22.5422\n",
      "Epoch [1/5] Batch 400/938 Critic_loss: -9.2134, Generator_loss: 26.9146\n",
      "Epoch [1/5] Batch 500/938 Critic_loss: -8.0064, Generator_loss: 27.5450\n",
      "Epoch [1/5] Batch 600/938 Critic_loss: -8.1961, Generator_loss: 27.8183\n",
      "Epoch [1/5] Batch 700/938 Critic_loss: -8.5126, Generator_loss: 25.5090\n",
      "Epoch [1/5] Batch 800/938 Critic_loss: -7.6769, Generator_loss: 27.3816\n",
      "Epoch [1/5] Batch 900/938 Critic_loss: -7.4127, Generator_loss: 29.5174\n",
      "Epoch [2/5] Batch 100/938 Critic_loss: -7.7550, Generator_loss: 30.9022\n",
      "Epoch [2/5] Batch 200/938 Critic_loss: -6.4988, Generator_loss: 30.6628\n",
      "Epoch [2/5] Batch 300/938 Critic_loss: -8.0274, Generator_loss: 29.9662\n",
      "Epoch [2/5] Batch 400/938 Critic_loss: -9.7049, Generator_loss: 29.8974\n",
      "Epoch [2/5] Batch 500/938 Critic_loss: -7.5569, Generator_loss: 29.6367\n",
      "Epoch [2/5] Batch 600/938 Critic_loss: -8.6475, Generator_loss: 30.5778\n",
      "Epoch [2/5] Batch 700/938 Critic_loss: -4.4841, Generator_loss: 27.4863\n",
      "Epoch [2/5] Batch 800/938 Critic_loss: -7.4982, Generator_loss: 30.9749\n",
      "Epoch [2/5] Batch 900/938 Critic_loss: -7.3595, Generator_loss: 29.8990\n",
      "Epoch [3/5] Batch 100/938 Critic_loss: -6.4445, Generator_loss: 29.1080\n",
      "Epoch [3/5] Batch 200/938 Critic_loss: -8.4150, Generator_loss: 32.1055\n",
      "Epoch [3/5] Batch 300/938 Critic_loss: -8.0962, Generator_loss: 34.2764\n",
      "Epoch [3/5] Batch 400/938 Critic_loss: -7.0111, Generator_loss: 34.7671\n",
      "Epoch [3/5] Batch 500/938 Critic_loss: -8.2826, Generator_loss: 32.8259\n",
      "Epoch [3/5] Batch 600/938 Critic_loss: -7.1366, Generator_loss: 34.9471\n",
      "Epoch [3/5] Batch 700/938 Critic_loss: -6.5715, Generator_loss: 31.1270\n",
      "Epoch [3/5] Batch 800/938 Critic_loss: -7.8043, Generator_loss: 32.6619\n",
      "Epoch [3/5] Batch 900/938 Critic_loss: -7.7203, Generator_loss: 35.4207\n",
      "Epoch [4/5] Batch 100/938 Critic_loss: -7.8717, Generator_loss: 34.8570\n",
      "Epoch [4/5] Batch 200/938 Critic_loss: -5.3229, Generator_loss: 35.4407\n",
      "Epoch [4/5] Batch 300/938 Critic_loss: -6.8908, Generator_loss: 33.7178\n",
      "Epoch [4/5] Batch 400/938 Critic_loss: -7.7792, Generator_loss: 37.4946\n",
      "Epoch [4/5] Batch 500/938 Critic_loss: -6.3373, Generator_loss: 32.1773\n",
      "Epoch [4/5] Batch 600/938 Critic_loss: -6.9111, Generator_loss: 35.1952\n",
      "Epoch [4/5] Batch 700/938 Critic_loss: -4.7283, Generator_loss: 37.0186\n",
      "Epoch [4/5] Batch 800/938 Critic_loss: -8.7243, Generator_loss: 38.1388\n",
      "Epoch [4/5] Batch 900/938 Critic_loss: -6.8521, Generator_loss: 37.7127\n"
     ]
    }
   ],
   "source": [
    "writer_real = SummaryWriter('logs/wgan_gp/real')\n",
    "writer_fake = SummaryWriter('logs/wgan_gp/fake')\n",
    "\n",
    "step = 0\n",
    "\n",
    "critic.train()\n",
    "generator.train()\n",
    "\n",
    "for epoch in range(EPOCHS):\n",
    "    for batch_idx, (real, _) in enumerate(data_loader):\n",
    "        real = real.to(DEVICE)\n",
    "        for _ in range(CRITIC_ITERATIONS):\n",
    "            z = torch.randn(real.shape[0], Z_DIM, 1, 1).to(DEVICE)\n",
    "            gen_img = generator(z)\n",
    "            \n",
    "            critic_real = critic(real).reshape(-1)\n",
    "            critic_fake = critic(gen_img).reshape(-1)\n",
    "            \n",
    "            gp = gradient_penalty(critic, real, gen_img, device=DEVICE)\n",
    "            \n",
    "            critic_loss = -(torch.mean(critic_real) - torch.mean(critic_fake)) + LAMBDA_GP*gp\n",
    "            critic.zero_grad()\n",
    "            critic_loss.backward(retain_graph=True)\n",
    "            critic_optimizer.step()\n",
    "\n",
    "\n",
    "        critic_fake = critic(gen_img).reshape(-1)\n",
    "        generator_loss = -torch.mean(critic_fake)\n",
    "        generator.zero_grad()\n",
    "        generator_loss.backward()\n",
    "        generator_optimizer.step()\n",
    "        \n",
    "        if batch_idx % 100 == 0 and batch_idx > 0:\n",
    "            critic.eval()\n",
    "            generator.eval()\n",
    "            print(f'Epoch [{epoch}/{EPOCHS}] Batch {batch_idx}/{len(data_loader)} Critic_loss: {critic_loss:.4f}, Generator_loss: {generator_loss:.4f}')\n",
    "            \n",
    "            with torch.no_grad():\n",
    "                gen_img = generator(z)\n",
    "                img_grid_real = make_grid(real[:32], normalize=True)\n",
    "                img_grid_fake = make_grid(gen_img[:32], normalize=True)\n",
    "                \n",
    "                writer_real.add_image('real', img_grid_real, global_step=step)\n",
    "                writer_fake.add_image('fake', img_grid_fake, global_step=step)\n",
    "                \n",
    "            step += 1\n",
    "            \n",
    "            generator.train()\n",
    "            critic.train()"
   ]
  }
 ],
 "metadata": {
  "interpreter": {
   "hash": "cd80b37ac214bc8ab7d99587051bafd896a213bb85b225545321c55dd4499615"
  },
  "kernelspec": {
   "display_name": "Python 3.8.7 64-bit (system)",
   "language": "python",
   "name": "python3"
  },
  "language_info": {
   "codemirror_mode": {
    "name": "ipython",
    "version": 3
   },
   "file_extension": ".py",
   "mimetype": "text/x-python",
   "name": "python",
   "nbconvert_exporter": "python",
   "pygments_lexer": "ipython3",
   "version": "3.8.7"
  },
  "orig_nbformat": 4
 },
 "nbformat": 4,
 "nbformat_minor": 2
}
