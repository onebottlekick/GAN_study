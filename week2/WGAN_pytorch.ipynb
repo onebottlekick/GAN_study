{
 "cells": [
  {
   "cell_type": "code",
   "execution_count": null,
   "metadata": {},
   "outputs": [],
   "source": [
    "import torch\n",
    "from torch import nn\n",
    "from torch.utils.data import DataLoader\n",
    "from torch.utils.tensorboard import SummaryWriter\n",
    "from torchvision import transforms, datasets\n",
    "from torchvision.utils import make_grid\n",
    "\n",
    "from WGAN_pytorch import Critic, Generator"
   ]
  },
  {
   "cell_type": "code",
   "execution_count": 2,
   "metadata": {},
   "outputs": [],
   "source": [
    "DEVICE = 'cuda' if torch.cuda.is_available() else 'cpu'\n",
    "LEARNING_RATE = 5e-5\n",
    "BATCH_SIZE = 64\n",
    "IMG_SIZE = 64\n",
    "IMG_CHANNEL = 1\n",
    "Z_DIM = 100\n",
    "EPOCHS = 5\n",
    "CRITIC_FEATURES = 32\n",
    "GENERATOR_FEATURES = 32\n",
    "CRITIC_ITERATIONS = 5\n",
    "WEIGHT_CLIP = 0.01"
   ]
  },
  {
   "cell_type": "code",
   "execution_count": 3,
   "metadata": {},
   "outputs": [],
   "source": [
    "data_loader = DataLoader(\n",
    "    dataset=datasets.MNIST(\n",
    "        root='../datasets',\n",
    "        download=True,\n",
    "        train=True,\n",
    "        transform=transforms.Compose([\n",
    "            transforms.Resize(IMG_SIZE),\n",
    "            transforms.ToTensor(),\n",
    "            transforms.Normalize([0.5 for _ in range(IMG_CHANNEL)], [0.5 for _ in range(IMG_CHANNEL)])\n",
    "        ])\n",
    "    ),\n",
    "    batch_size=BATCH_SIZE,\n",
    "    shuffle=True\n",
    ")"
   ]
  },
  {
   "cell_type": "code",
   "execution_count": 4,
   "metadata": {},
   "outputs": [],
   "source": [
    "critic = Critic(IMG_CHANNEL, CRITIC_FEATURES).to(DEVICE)\n",
    "generator = Generator(Z_DIM, IMG_CHANNEL, GENERATOR_FEATURES).to(DEVICE)\n",
    "\n",
    "critic_optimizer = torch.optim.RMSprop(critic.parameters(), lr=LEARNING_RATE)\n",
    "generator_optimizer = torch.optim.RMSprop(generator.parameters(), lr=LEARNING_RATE)"
   ]
  },
  {
   "cell_type": "code",
   "execution_count": 5,
   "metadata": {},
   "outputs": [
    {
     "name": "stdout",
     "output_type": "stream",
     "text": [
      "Epoch [0/5] Batch 100/938 Critic_loss: -0.3831, Generator_loss: 0.1926\n",
      "Epoch [0/5] Batch 200/938 Critic_loss: -0.3731, Generator_loss: 0.1423\n",
      "Epoch [0/5] Batch 300/938 Critic_loss: -0.2906, Generator_loss: 0.2912\n",
      "Epoch [0/5] Batch 400/938 Critic_loss: -0.3808, Generator_loss: 0.0975\n",
      "Epoch [0/5] Batch 500/938 Critic_loss: -0.3934, Generator_loss: 0.2984\n",
      "Epoch [0/5] Batch 600/938 Critic_loss: -0.5114, Generator_loss: 0.2973\n",
      "Epoch [0/5] Batch 700/938 Critic_loss: -0.3401, Generator_loss: -0.0094\n",
      "Epoch [0/5] Batch 800/938 Critic_loss: -0.3816, Generator_loss: 0.1272\n",
      "Epoch [0/5] Batch 900/938 Critic_loss: -0.4180, Generator_loss: 0.1357\n",
      "Epoch [1/5] Batch 100/938 Critic_loss: -0.3816, Generator_loss: 0.0784\n",
      "Epoch [1/5] Batch 200/938 Critic_loss: -0.3919, Generator_loss: 0.2955\n",
      "Epoch [1/5] Batch 300/938 Critic_loss: -0.4767, Generator_loss: 0.2704\n",
      "Epoch [1/5] Batch 400/938 Critic_loss: -0.3531, Generator_loss: 0.2926\n",
      "Epoch [1/5] Batch 500/938 Critic_loss: -0.3849, Generator_loss: 0.2720\n",
      "Epoch [1/5] Batch 600/938 Critic_loss: -0.3508, Generator_loss: 0.1042\n",
      "Epoch [1/5] Batch 700/938 Critic_loss: -0.3288, Generator_loss: 0.1047\n",
      "Epoch [1/5] Batch 800/938 Critic_loss: -0.3559, Generator_loss: 0.1280\n",
      "Epoch [1/5] Batch 900/938 Critic_loss: -0.3677, Generator_loss: 0.2848\n",
      "Epoch [2/5] Batch 100/938 Critic_loss: -0.3356, Generator_loss: 0.2627\n",
      "Epoch [2/5] Batch 200/938 Critic_loss: -0.3305, Generator_loss: 0.2622\n",
      "Epoch [2/5] Batch 300/938 Critic_loss: -0.3182, Generator_loss: 0.2715\n",
      "Epoch [2/5] Batch 400/938 Critic_loss: -0.2616, Generator_loss: 0.0592\n",
      "Epoch [2/5] Batch 500/938 Critic_loss: -0.2815, Generator_loss: 0.0823\n",
      "Epoch [2/5] Batch 600/938 Critic_loss: -0.2972, Generator_loss: 0.2616\n",
      "Epoch [2/5] Batch 700/938 Critic_loss: -0.3076, Generator_loss: 0.1053\n",
      "Epoch [2/5] Batch 800/938 Critic_loss: -0.2912, Generator_loss: 0.2581\n",
      "Epoch [2/5] Batch 900/938 Critic_loss: -0.3036, Generator_loss: 0.0773\n",
      "Epoch [3/5] Batch 100/938 Critic_loss: -0.2858, Generator_loss: 0.2614\n",
      "Epoch [3/5] Batch 200/938 Critic_loss: -0.2983, Generator_loss: 0.2399\n",
      "Epoch [3/5] Batch 300/938 Critic_loss: -0.3155, Generator_loss: 0.2533\n",
      "Epoch [3/5] Batch 400/938 Critic_loss: -0.3529, Generator_loss: 0.2682\n",
      "Epoch [3/5] Batch 500/938 Critic_loss: -0.2921, Generator_loss: 0.2508\n",
      "Epoch [3/5] Batch 600/938 Critic_loss: -0.3019, Generator_loss: 0.2601\n",
      "Epoch [3/5] Batch 700/938 Critic_loss: -0.3283, Generator_loss: 0.2491\n",
      "Epoch [3/5] Batch 800/938 Critic_loss: -0.3457, Generator_loss: 0.2638\n",
      "Epoch [3/5] Batch 900/938 Critic_loss: -0.2861, Generator_loss: 0.1002\n",
      "Epoch [4/5] Batch 100/938 Critic_loss: -0.3049, Generator_loss: 0.0974\n",
      "Epoch [4/5] Batch 200/938 Critic_loss: -0.2860, Generator_loss: 0.0839\n",
      "Epoch [4/5] Batch 300/938 Critic_loss: -0.3157, Generator_loss: 0.2633\n",
      "Epoch [4/5] Batch 400/938 Critic_loss: -0.3281, Generator_loss: 0.2355\n",
      "Epoch [4/5] Batch 500/938 Critic_loss: -0.2955, Generator_loss: 0.2501\n",
      "Epoch [4/5] Batch 600/938 Critic_loss: -0.3125, Generator_loss: 0.2541\n",
      "Epoch [4/5] Batch 700/938 Critic_loss: -0.3176, Generator_loss: 0.2282\n",
      "Epoch [4/5] Batch 800/938 Critic_loss: -0.3122, Generator_loss: 0.2313\n",
      "Epoch [4/5] Batch 900/938 Critic_loss: -0.3258, Generator_loss: 0.2605\n"
     ]
    }
   ],
   "source": [
    "writer_real = SummaryWriter('logs/wgan/real')\n",
    "writer_fake = SummaryWriter('logs/wgan/fake')\n",
    "\n",
    "step = 0\n",
    "\n",
    "critic.train()\n",
    "generator.train()\n",
    "\n",
    "for epoch in range(EPOCHS):\n",
    "    for batch_idx, (real, _) in enumerate(data_loader):\n",
    "        real = real.to(DEVICE)\n",
    "        for _ in range(CRITIC_ITERATIONS):\n",
    "            z = torch.randn(real.shape[0], Z_DIM, 1, 1).to(DEVICE)\n",
    "            gen_img = generator(z)\n",
    "            \n",
    "            critic_real = critic(real).reshape(-1)\n",
    "            critic_fake = critic(gen_img).reshape(-1)\n",
    "            \n",
    "            critic_loss = -(torch.mean(critic_real) - torch.mean(critic_fake))\n",
    "            critic.zero_grad()\n",
    "            critic_loss.backward(retain_graph=True)\n",
    "            critic_optimizer.step()\n",
    "            \n",
    "            for p in critic.parameters():\n",
    "                p.data.clip_(-WEIGHT_CLIP, WEIGHT_CLIP)\n",
    "                \n",
    "        critic_fake = critic(gen_img).reshape(-1)\n",
    "        generator_loss = -torch.mean(critic_fake)\n",
    "        generator.zero_grad()\n",
    "        generator_loss.backward()\n",
    "        generator_optimizer.step()\n",
    "        \n",
    "        if batch_idx % 100 == 0 and batch_idx > 0:\n",
    "            critic.eval()\n",
    "            generator.eval()\n",
    "            print(f'Epoch [{epoch}/{EPOCHS}] Batch {batch_idx}/{len(data_loader)} Critic_loss: {critic_loss:.4f}, Generator_loss: {generator_loss:.4f}')\n",
    "            \n",
    "            with torch.no_grad():\n",
    "                gen_img = generator(z)\n",
    "                img_grid_real = make_grid(real[:32], normalize=True)\n",
    "                img_grid_fake = make_grid(gen_img[:32], normalize=True)\n",
    "                \n",
    "                writer_real.add_image('real', img_grid_real, global_step=step)\n",
    "                writer_fake.add_image('fake', img_grid_fake, global_step=step)\n",
    "                \n",
    "            step += 1\n",
    "            \n",
    "            generator.train()\n",
    "            critic.train()"
   ]
  }
 ],
 "metadata": {
  "interpreter": {
   "hash": "cd80b37ac214bc8ab7d99587051bafd896a213bb85b225545321c55dd4499615"
  },
  "kernelspec": {
   "display_name": "Python 3.8.7 64-bit (system)",
   "language": "python",
   "name": "python3"
  },
  "language_info": {
   "codemirror_mode": {
    "name": "ipython",
    "version": 3
   },
   "file_extension": ".py",
   "mimetype": "text/x-python",
   "name": "python",
   "nbconvert_exporter": "python",
   "pygments_lexer": "ipython3",
   "version": "3.8.7"
  },
  "orig_nbformat": 4
 },
 "nbformat": 4,
 "nbformat_minor": 2
}
