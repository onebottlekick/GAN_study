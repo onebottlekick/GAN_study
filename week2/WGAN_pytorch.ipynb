{
 "cells": [
  {
   "cell_type": "code",
   "execution_count": 1,
   "metadata": {},
   "outputs": [
    {
     "name": "stderr",
     "output_type": "stream",
     "text": [
      "C:\\Users\\onebottlekick\\Dev\\py_venvs\\dl\\lib\\site-packages\\setuptools\\distutils_patch.py:25: UserWarning: Distutils was imported before Setuptools. This usage is discouraged and may exhibit undesirable behaviors or errors. Please use Setuptools' objects directly or at least import Setuptools first.\n",
      "  warnings.warn(\n"
     ]
    }
   ],
   "source": [
    "import torch\n",
    "from torch import nn\n",
    "from torch.utils.data import DataLoader\n",
    "from torch.utils.tensorboard import SummaryWriter\n",
    "from torchvision import transforms, datasets\n",
    "from torchvision.utils import make_grid\n",
    "\n",
    "from WGAN_pytorch import Critic, Generator"
   ]
  },
  {
   "cell_type": "code",
   "execution_count": 2,
   "metadata": {},
   "outputs": [],
   "source": [
    "DEVICE = 'cuda' if torch.cuda.is_available() else 'cpu'\n",
    "LEARNING_RATE = 1e-5\n",
    "BATCH_SIZE = 64\n",
    "IMG_SIZE = 32\n",
    "IMG_CHANNEL = 1\n",
    "Z_DIM = 100\n",
    "EPOCHS = 5\n",
    "CRITIC_FEATURES = 32\n",
    "GENERATOR_FEATURES = 32\n",
    "CRITIC_ITERATIONS = 5\n",
    "WEIGHT_CLIP = 0.01"
   ]
  },
  {
   "cell_type": "code",
   "execution_count": 3,
   "metadata": {},
   "outputs": [],
   "source": [
    "data_loader = DataLoader(\n",
    "    dataset=datasets.MNIST(\n",
    "        root='../datasets',\n",
    "        download=True,\n",
    "        train=True,\n",
    "        transform=transforms.Compose([\n",
    "            transforms.Resize(IMG_SIZE),\n",
    "            transforms.ToTensor(),\n",
    "            transforms.Normalize([0.5 for _ in range(IMG_CHANNEL)], [0.5 for _ in range(IMG_CHANNEL)])\n",
    "        ])\n",
    "    ),\n",
    "    batch_size=BATCH_SIZE,\n",
    "    shuffle=True\n",
    ")"
   ]
  },
  {
   "cell_type": "code",
   "execution_count": 4,
   "metadata": {},
   "outputs": [],
   "source": [
    "critic = Critic(IMG_CHANNEL, CRITIC_FEATURES).to(DEVICE)\n",
    "generator = Generator(Z_DIM, IMG_CHANNEL, GENERATOR_FEATURES).to(DEVICE)\n",
    "\n",
    "critic_optimizer = torch.optim.RMSprop(critic.parameters(), lr=LEARNING_RATE)\n",
    "generator_optimizer = torch.optim.RMSprop(generator.parameters(), lr=LEARNING_RATE)"
   ]
  },
  {
   "cell_type": "code",
   "execution_count": 5,
   "metadata": {},
   "outputs": [
    {
     "name": "stdout",
     "output_type": "stream",
     "text": [
      "Epoch [0/5] Batch 100/938 Critic_loss: -0.0749, Generator_loss: 0.0410\n",
      "Epoch [0/5] Batch 200/938 Critic_loss: -0.1648, Generator_loss: 0.0878\n",
      "Epoch [0/5] Batch 300/938 Critic_loss: -0.1897, Generator_loss: 0.1003\n",
      "Epoch [0/5] Batch 400/938 Critic_loss: -0.1970, Generator_loss: 0.1041\n",
      "Epoch [0/5] Batch 500/938 Critic_loss: -0.1982, Generator_loss: 0.1046\n",
      "Epoch [0/5] Batch 600/938 Critic_loss: -0.1983, Generator_loss: 0.1047\n",
      "Epoch [0/5] Batch 700/938 Critic_loss: -0.1984, Generator_loss: 0.1047\n",
      "Epoch [0/5] Batch 800/938 Critic_loss: -0.1985, Generator_loss: 0.1047\n",
      "Epoch [0/5] Batch 900/938 Critic_loss: -0.1982, Generator_loss: 0.1046\n",
      "Epoch [1/5] Batch 100/938 Critic_loss: -0.1980, Generator_loss: 0.1045\n",
      "Epoch [1/5] Batch 200/938 Critic_loss: -0.1981, Generator_loss: 0.1046\n",
      "Epoch [1/5] Batch 300/938 Critic_loss: -0.1982, Generator_loss: 0.1046\n",
      "Epoch [1/5] Batch 400/938 Critic_loss: -0.1982, Generator_loss: 0.1046\n",
      "Epoch [1/5] Batch 500/938 Critic_loss: -0.1981, Generator_loss: 0.1046\n",
      "Epoch [1/5] Batch 600/938 Critic_loss: -0.1982, Generator_loss: 0.1046\n",
      "Epoch [1/5] Batch 700/938 Critic_loss: -0.1982, Generator_loss: 0.1046\n",
      "Epoch [1/5] Batch 800/938 Critic_loss: -0.1982, Generator_loss: 0.1046\n",
      "Epoch [1/5] Batch 900/938 Critic_loss: -0.1983, Generator_loss: 0.1047\n",
      "Epoch [2/5] Batch 100/938 Critic_loss: -0.1983, Generator_loss: 0.1047\n",
      "Epoch [2/5] Batch 200/938 Critic_loss: -0.1983, Generator_loss: 0.1047\n",
      "Epoch [2/5] Batch 300/938 Critic_loss: -0.1983, Generator_loss: 0.1047\n",
      "Epoch [2/5] Batch 400/938 Critic_loss: -0.1984, Generator_loss: 0.1047\n",
      "Epoch [2/5] Batch 500/938 Critic_loss: -0.1984, Generator_loss: 0.1047\n",
      "Epoch [2/5] Batch 600/938 Critic_loss: -0.1984, Generator_loss: 0.1047\n",
      "Epoch [2/5] Batch 700/938 Critic_loss: -0.1984, Generator_loss: 0.1047\n",
      "Epoch [2/5] Batch 800/938 Critic_loss: -0.1984, Generator_loss: 0.1047\n",
      "Epoch [2/5] Batch 900/938 Critic_loss: -0.1984, Generator_loss: 0.1047\n",
      "Epoch [3/5] Batch 100/938 Critic_loss: -0.1984, Generator_loss: 0.1047\n",
      "Epoch [3/5] Batch 200/938 Critic_loss: -0.1985, Generator_loss: 0.1047\n",
      "Epoch [3/5] Batch 300/938 Critic_loss: -0.1985, Generator_loss: 0.1047\n",
      "Epoch [3/5] Batch 400/938 Critic_loss: -0.1984, Generator_loss: 0.1047\n",
      "Epoch [3/5] Batch 500/938 Critic_loss: -0.1984, Generator_loss: 0.1047\n",
      "Epoch [3/5] Batch 600/938 Critic_loss: -0.1985, Generator_loss: 0.1047\n",
      "Epoch [3/5] Batch 700/938 Critic_loss: -0.1985, Generator_loss: 0.1047\n",
      "Epoch [3/5] Batch 800/938 Critic_loss: -0.1985, Generator_loss: 0.1047\n",
      "Epoch [3/5] Batch 900/938 Critic_loss: -0.1985, Generator_loss: 0.1047\n",
      "Epoch [4/5] Batch 100/938 Critic_loss: -0.1985, Generator_loss: 0.1048\n",
      "Epoch [4/5] Batch 200/938 Critic_loss: -0.1985, Generator_loss: 0.1048\n",
      "Epoch [4/5] Batch 300/938 Critic_loss: -0.1985, Generator_loss: 0.1048\n",
      "Epoch [4/5] Batch 400/938 Critic_loss: -0.1985, Generator_loss: 0.1048\n",
      "Epoch [4/5] Batch 500/938 Critic_loss: -0.1985, Generator_loss: 0.1048\n",
      "Epoch [4/5] Batch 600/938 Critic_loss: -0.1985, Generator_loss: 0.1048\n",
      "Epoch [4/5] Batch 700/938 Critic_loss: -0.1986, Generator_loss: 0.1048\n",
      "Epoch [4/5] Batch 800/938 Critic_loss: -0.1985, Generator_loss: 0.1048\n",
      "Epoch [4/5] Batch 900/938 Critic_loss: -0.1986, Generator_loss: 0.1048\n"
     ]
    }
   ],
   "source": [
    "writer_real = SummaryWriter('logs/mnist4/real')\n",
    "writer_fake = SummaryWriter('logs/mnist4/fake')\n",
    "\n",
    "step = 0\n",
    "\n",
    "critic.train()\n",
    "generator.train()\n",
    "\n",
    "for epoch in range(EPOCHS):\n",
    "    for batch_idx, (real, _) in enumerate(data_loader):\n",
    "        real = real.to(DEVICE)\n",
    "        for _ in range(CRITIC_ITERATIONS):\n",
    "            z = torch.randn(real.shape[0], Z_DIM, 1, 1).to(DEVICE)\n",
    "            gen_img = generator(z)\n",
    "            \n",
    "            critic_real = critic(real).reshape(-1)\n",
    "            critic_fake = critic(gen_img).reshape(-1)\n",
    "            \n",
    "            critic_loss = -(torch.mean(critic_real) - torch.mean(critic_fake))\n",
    "            critic.zero_grad()\n",
    "            critic_loss.backward(retain_graph=True)\n",
    "            critic_optimizer.step()\n",
    "            \n",
    "            for p in critic.parameters():\n",
    "                p.data.clip_(-WEIGHT_CLIP, WEIGHT_CLIP)\n",
    "                \n",
    "        critic_fake = critic(gen_img).reshape(-1)\n",
    "        generator_loss = -torch.mean(critic_fake)\n",
    "        generator.zero_grad()\n",
    "        generator_loss.backward()\n",
    "        generator_optimizer.step()\n",
    "        \n",
    "        if batch_idx % 100 == 0 and batch_idx > 0:\n",
    "            critic.eval()\n",
    "            generator.eval()\n",
    "            print(f'Epoch [{epoch}/{EPOCHS}] Batch {batch_idx}/{len(data_loader)} Critic_loss: {critic_loss:.4f}, Generator_loss: {generator_loss:.4f}')\n",
    "            \n",
    "            with torch.no_grad():\n",
    "                gen_img = generator(z)\n",
    "                img_grid_real = make_grid(real[:32], normalize=True)\n",
    "                img_grid_fake = make_grid(gen_img[:32], normalize=True)\n",
    "                \n",
    "                writer_real.add_image('real', img_grid_real, global_step=step)\n",
    "                writer_fake.add_image('fake', img_grid_fake, global_step=step)\n",
    "                \n",
    "            step += 1\n",
    "            \n",
    "            generator.train()\n",
    "            critic.train()"
   ]
  }
 ],
 "metadata": {
  "interpreter": {
   "hash": "cd80b37ac214bc8ab7d99587051bafd896a213bb85b225545321c55dd4499615"
  },
  "kernelspec": {
   "display_name": "Python 3.8.7 64-bit (system)",
   "language": "python",
   "name": "python3"
  },
  "language_info": {
   "codemirror_mode": {
    "name": "ipython",
    "version": 3
   },
   "file_extension": ".py",
   "mimetype": "text/x-python",
   "name": "python",
   "nbconvert_exporter": "python",
   "pygments_lexer": "ipython3",
   "version": "3.8.7"
  },
  "orig_nbformat": 4
 },
 "nbformat": 4,
 "nbformat_minor": 2
}
