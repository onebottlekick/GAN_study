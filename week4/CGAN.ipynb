{
 "cells": [
  {
   "cell_type": "code",
   "execution_count": null,
   "metadata": {},
   "outputs": [],
   "source": [
    "import torch\n",
    "from torch import nn\n",
    "from torch.utils.data import DataLoader\n",
    "# from torch.utils.tensorboard import SummaryWriter\n",
    "from torchvision import datasets, transforms\n",
    "from tqdm import tqdm\n",
    "\n",
    "from CGAN import Discriminator, Generator"
   ]
  },
  {
   "cell_type": "code",
   "execution_count": null,
   "metadata": {},
   "outputs": [],
   "source": [
    "DEVICE = 'cuda' if torch.cuda.is_available() else 'cpu'\n",
    "LEARNING_RATE = 0.0002\n",
    "BATCH_SIZE = 64\n",
    "EPOCHS = 100\n",
    "BETAS = (0.5, 0.999)\n",
    "NUM_CLASSES = 10\n",
    "IMG_SIZE = 32\n",
    "IMG_CHANNELS = 1\n",
    "IMG_SHAPE = (IMG_CHANNELS, IMG_SIZE, IMG_SIZE)\n",
    "Z_DIM = 100\n",
    "EMBED_SIZE = 100\n"
   ]
  },
  {
   "cell_type": "code",
   "execution_count": null,
   "metadata": {},
   "outputs": [],
   "source": [
    "dataloader = DataLoader(\n",
    "    datasets.MNIST(\n",
    "        root = '../datasets',\n",
    "        download=True,\n",
    "        train=True,\n",
    "        transform=transforms.Compose([\n",
    "            transforms.Resize(IMG_SIZE),\n",
    "            transforms.ToTensor(),\n",
    "            transforms.Normalize([0.5 for _ in range(IMG_CHANNELS)], [0.5 for _ in range(IMG_CHANNELS)])\n",
    "        ])\n",
    "    ),\n",
    "    batch_size=BATCH_SIZE,\n",
    "    shuffle=True\n",
    ")"
   ]
  },
  {
   "cell_type": "code",
   "execution_count": null,
   "metadata": {},
   "outputs": [],
   "source": [
    "generator = Generator(NUM_CLASSES, Z_DIM, IMG_SHAPE).to(DEVICE)\n",
    "discriminator = Discriminator(NUM_CLASSES, IMG_SHAPE).to(DEVICE)"
   ]
  },
  {
   "cell_type": "code",
   "execution_count": null,
   "metadata": {},
   "outputs": [],
   "source": [
    "optimizer_g = torch.optim.Adam(generator.parameters(), lr=LEARNING_RATE, betas=BETAS)\n",
    "optimizer_d = torch.optim.Adam(discriminator.parameters(), lr=LEARNING_RATE, betas=BETAS)"
   ]
  },
  {
   "cell_type": "code",
   "execution_count": null,
   "metadata": {},
   "outputs": [],
   "source": [
    "adversarial_loss = nn.MSELoss().to(DEVICE)"
   ]
  },
  {
   "cell_type": "code",
   "execution_count": null,
   "metadata": {},
   "outputs": [],
   "source": [
    "for epoch in range(EPOCHS):\n",
    "    with tqdm(dataloader, unit='batch') as t:\n",
    "        t.set_description(f'Epoch {epoch}')\n",
    "        for i, (imgs, labels) in enumerate(t):\n",
    "            valid = torch.ones(imgs.size(0), 1, requires_grad=False, device=DEVICE)\n",
    "            fake = torch.zeros(imgs.size(0), 1, requires_grad=False, device=DEVICE)\n",
    "\n",
    "            real_img = imgs.to(DEVICE)\n",
    "            real_label = labels.to(DEVICE)\n",
    "\n",
    "            optimizer_g.zero_grad()\n",
    "            z = torch.rand(imgs.shape[0], Z_DIM, device=DEVICE)\n",
    "            fake_label = torch.randint(0, NUM_CLASSES, (imgs.size(0),), device=DEVICE)\n",
    "            gen_img = generator(z, fake_label)\n",
    "            validity = discriminator(gen_img, fake_label)\n",
    "            g_loss = adversarial_loss(validity, valid)\n",
    "            g_loss.backward()\n",
    "            optimizer_g.step()\n",
    "\n",
    "            # train discriminator\n",
    "            optimizer_d.zero_grad()\n",
    "            d_real_loss = adversarial_loss(discriminator(real_img, real_label), valid)\n",
    "            d_fake_loss = adversarial_loss(discriminator(gen_img.detach(), fake_label), fake)\n",
    "            d_loss = (d_real_loss + d_fake_loss)/2\n",
    "            d_loss.backward()\n",
    "            optimizer_d.step()\n",
    "\n",
    "            t.set_postfix(D_loss=d_loss.item(), G_loss=g_loss.item())\n",
    "            "
   ]
  },
  {
   "cell_type": "code",
   "execution_count": null,
   "metadata": {},
   "outputs": [],
   "source": [
    "a = torch.randn(1, 100)\n",
    "b = torch.tensor([9], dtype=torch.int64)\n",
    "# b = torch.randint(0, NUM_CLASSES, (1,))\n",
    "generator.eval()\n",
    "generator.to('cpu')\n",
    "hi = generator(a, b)\n",
    "abab = hi.detach().numpy().squeeze()\n",
    "import matplotlib.pyplot as plt\n",
    "\n",
    "plt.imshow(abab, cmap='gray')"
   ]
  },
  {
   "cell_type": "code",
   "execution_count": null,
   "metadata": {},
   "outputs": [],
   "source": [
    "# generator.train()\n",
    "# generator.to(DEVICE)"
   ]
  },
  {
   "cell_type": "code",
   "execution_count": null,
   "metadata": {},
   "outputs": [],
   "source": []
  }
 ],
 "metadata": {
  "interpreter": {
   "hash": "a6a9eff3bb0262dbf80888f22862df30b8c3e860a6ee7dfdc73ae8a505970c32"
  },
  "kernelspec": {
   "display_name": "Python 3.8.7 64-bit (system)",
   "language": "python",
   "name": "python3"
  },
  "language_info": {
   "codemirror_mode": {
    "name": "ipython",
    "version": 3
   },
   "file_extension": ".py",
   "mimetype": "text/x-python",
   "name": "python",
   "nbconvert_exporter": "python",
   "pygments_lexer": "ipython3",
   "version": "3.8.7"
  },
  "orig_nbformat": 4
 },
 "nbformat": 4,
 "nbformat_minor": 2
}
